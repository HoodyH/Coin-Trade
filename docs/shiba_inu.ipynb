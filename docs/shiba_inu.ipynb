{
 "cells": [
  {
   "cell_type": "code",
   "execution_count": 1,
   "metadata": {
    "ExecuteTime": {
     "end_time": "2021-12-09T23:09:38.569807Z",
     "start_time": "2021-12-09T23:09:37.351388Z"
    }
   },
   "outputs": [
    {
     "name": "stdout",
     "output_type": "stream",
     "text": [
      "Requirement already satisfied: pandas_datareader in /Users/oscarsuarez/opt/anaconda3/lib/python3.8/site-packages (0.10.0)\r\n",
      "Requirement already satisfied: pandas>=0.23 in /Users/oscarsuarez/opt/anaconda3/lib/python3.8/site-packages (from pandas_datareader) (1.1.5)\r\n",
      "Requirement already satisfied: lxml in /Users/oscarsuarez/opt/anaconda3/lib/python3.8/site-packages (from pandas_datareader) (4.6.2)\r\n",
      "Requirement already satisfied: requests>=2.19.0 in /Users/oscarsuarez/opt/anaconda3/lib/python3.8/site-packages (from pandas_datareader) (2.25.1)\r\n",
      "Requirement already satisfied: python-dateutil>=2.7.3 in /Users/oscarsuarez/opt/anaconda3/lib/python3.8/site-packages (from pandas>=0.23->pandas_datareader) (2.8.1)\r\n",
      "Requirement already satisfied: pytz>=2017.2 in /Users/oscarsuarez/opt/anaconda3/lib/python3.8/site-packages (from pandas>=0.23->pandas_datareader) (2020.5)\r\n",
      "Requirement already satisfied: numpy>=1.15.4 in /Users/oscarsuarez/opt/anaconda3/lib/python3.8/site-packages (from pandas>=0.23->pandas_datareader) (1.19.2)\r\n",
      "Requirement already satisfied: six>=1.5 in /Users/oscarsuarez/opt/anaconda3/lib/python3.8/site-packages (from python-dateutil>=2.7.3->pandas>=0.23->pandas_datareader) (1.15.0)\r\n",
      "Requirement already satisfied: urllib3<1.27,>=1.21.1 in /Users/oscarsuarez/opt/anaconda3/lib/python3.8/site-packages (from requests>=2.19.0->pandas_datareader) (1.26.2)\r\n",
      "Requirement already satisfied: chardet<5,>=3.0.2 in /Users/oscarsuarez/opt/anaconda3/lib/python3.8/site-packages (from requests>=2.19.0->pandas_datareader) (4.0.0)\r\n",
      "Requirement already satisfied: certifi>=2017.4.17 in /Users/oscarsuarez/opt/anaconda3/lib/python3.8/site-packages (from requests>=2.19.0->pandas_datareader) (2020.12.5)\r\n",
      "Requirement already satisfied: idna<3,>=2.5 in /Users/oscarsuarez/opt/anaconda3/lib/python3.8/site-packages (from requests>=2.19.0->pandas_datareader) (2.10)\r\n"
     ]
    }
   ],
   "source": [
    "!pip install pandas_datareader"
   ]
  },
  {
   "cell_type": "code",
   "execution_count": null,
   "metadata": {},
   "outputs": [],
   "source": []
  },
  {
   "cell_type": "code",
   "execution_count": 2,
   "metadata": {
    "ExecuteTime": {
     "end_time": "2021-12-09T23:09:41.270551Z",
     "start_time": "2021-12-09T23:09:38.573490Z"
    }
   },
   "outputs": [],
   "source": [
    "import math\n",
    "import pandas as pd\n",
    "import pandas_datareader as web\n",
    "import numpy as np\n",
    "from sklearn.preprocessing import MinMaxScaler\n",
    "import tensorflow as tf\n",
    "from tensorflow import keras\n",
    "from tensorflow.keras import layers\n",
    "import matplotlib.pyplot as plt\n"
   ]
  },
  {
   "cell_type": "code",
   "execution_count": 3,
   "metadata": {
    "ExecuteTime": {
     "end_time": "2021-12-09T23:09:41.288349Z",
     "start_time": "2021-12-09T23:09:41.272693Z"
    }
   },
   "outputs": [
    {
     "data": {
      "text/html": [
       "<div>\n",
       "<style scoped>\n",
       "    .dataframe tbody tr th:only-of-type {\n",
       "        vertical-align: middle;\n",
       "    }\n",
       "\n",
       "    .dataframe tbody tr th {\n",
       "        vertical-align: top;\n",
       "    }\n",
       "\n",
       "    .dataframe thead th {\n",
       "        text-align: right;\n",
       "    }\n",
       "</style>\n",
       "<table border=\"1\" class=\"dataframe\">\n",
       "  <thead>\n",
       "    <tr style=\"text-align: right;\">\n",
       "      <th></th>\n",
       "      <th>Date</th>\n",
       "      <th>Open</th>\n",
       "      <th>High</th>\n",
       "      <th>Low</th>\n",
       "      <th>Close</th>\n",
       "      <th>Volume</th>\n",
       "      <th>Market Cap</th>\n",
       "    </tr>\n",
       "  </thead>\n",
       "  <tbody>\n",
       "    <tr>\n",
       "      <th>0</th>\n",
       "      <td>Aug 01, 2020</td>\n",
       "      <td>1.335000e-09</td>\n",
       "      <td>3.277000e-09</td>\n",
       "      <td>4.320000e-10</td>\n",
       "      <td>1.006000e-09</td>\n",
       "      <td>1604789</td>\n",
       "      <td>0</td>\n",
       "    </tr>\n",
       "    <tr>\n",
       "      <th>1</th>\n",
       "      <td>Aug 02, 2020</td>\n",
       "      <td>1.009000e-09</td>\n",
       "      <td>1.073000e-09</td>\n",
       "      <td>3.560000e-10</td>\n",
       "      <td>5.100000e-10</td>\n",
       "      <td>193098</td>\n",
       "      <td>0</td>\n",
       "    </tr>\n",
       "    <tr>\n",
       "      <th>2</th>\n",
       "      <td>Aug 03, 2020</td>\n",
       "      <td>4.990000e-10</td>\n",
       "      <td>5.150000e-10</td>\n",
       "      <td>1.430000e-10</td>\n",
       "      <td>1.450000e-10</td>\n",
       "      <td>129225</td>\n",
       "      <td>0</td>\n",
       "    </tr>\n",
       "    <tr>\n",
       "      <th>3</th>\n",
       "      <td>Aug 04, 2020</td>\n",
       "      <td>1.450000e-10</td>\n",
       "      <td>2.030000e-10</td>\n",
       "      <td>1.380000e-10</td>\n",
       "      <td>1.620000e-10</td>\n",
       "      <td>19717</td>\n",
       "      <td>0</td>\n",
       "    </tr>\n",
       "    <tr>\n",
       "      <th>4</th>\n",
       "      <td>Aug 05, 2020</td>\n",
       "      <td>1.610000e-10</td>\n",
       "      <td>3.300000e-10</td>\n",
       "      <td>1.470000e-10</td>\n",
       "      <td>3.090000e-10</td>\n",
       "      <td>26869</td>\n",
       "      <td>0</td>\n",
       "    </tr>\n",
       "  </tbody>\n",
       "</table>\n",
       "</div>"
      ],
      "text/plain": [
       "           Date          Open          High           Low         Close  \\\n",
       "0  Aug 01, 2020  1.335000e-09  3.277000e-09  4.320000e-10  1.006000e-09   \n",
       "1  Aug 02, 2020  1.009000e-09  1.073000e-09  3.560000e-10  5.100000e-10   \n",
       "2  Aug 03, 2020  4.990000e-10  5.150000e-10  1.430000e-10  1.450000e-10   \n",
       "3  Aug 04, 2020  1.450000e-10  2.030000e-10  1.380000e-10  1.620000e-10   \n",
       "4  Aug 05, 2020  1.610000e-10  3.300000e-10  1.470000e-10  3.090000e-10   \n",
       "\n",
       "    Volume  Market Cap  \n",
       "0  1604789           0  \n",
       "1   193098           0  \n",
       "2   129225           0  \n",
       "3    19717           0  \n",
       "4    26869           0  "
      ]
     },
     "execution_count": 3,
     "metadata": {},
     "output_type": "execute_result"
    }
   ],
   "source": [
    "df = pd.read_csv(\"Shiba_Inu.csv\")\n",
    "df.head()"
   ]
  },
  {
   "cell_type": "code",
   "execution_count": 4,
   "metadata": {
    "ExecuteTime": {
     "end_time": "2021-12-09T23:09:41.311247Z",
     "start_time": "2021-12-09T23:09:41.289781Z"
    }
   },
   "outputs": [
    {
     "data": {
      "text/html": [
       "<div>\n",
       "<style scoped>\n",
       "    .dataframe tbody tr th:only-of-type {\n",
       "        vertical-align: middle;\n",
       "    }\n",
       "\n",
       "    .dataframe tbody tr th {\n",
       "        vertical-align: top;\n",
       "    }\n",
       "\n",
       "    .dataframe thead th {\n",
       "        text-align: right;\n",
       "    }\n",
       "</style>\n",
       "<table border=\"1\" class=\"dataframe\">\n",
       "  <thead>\n",
       "    <tr style=\"text-align: right;\">\n",
       "      <th></th>\n",
       "      <th>Open</th>\n",
       "      <th>High</th>\n",
       "      <th>Low</th>\n",
       "      <th>Close</th>\n",
       "      <th>Volume</th>\n",
       "      <th>Market Cap</th>\n",
       "    </tr>\n",
       "  </thead>\n",
       "  <tbody>\n",
       "    <tr>\n",
       "      <th>count</th>\n",
       "      <td>4.900000e+02</td>\n",
       "      <td>4.900000e+02</td>\n",
       "      <td>4.900000e+02</td>\n",
       "      <td>4.900000e+02</td>\n",
       "      <td>4.900000e+02</td>\n",
       "      <td>4.900000e+02</td>\n",
       "    </tr>\n",
       "    <tr>\n",
       "      <th>mean</th>\n",
       "      <td>7.974122e-06</td>\n",
       "      <td>8.775205e-06</td>\n",
       "      <td>7.298359e-06</td>\n",
       "      <td>8.050025e-06</td>\n",
       "      <td>1.094187e+09</td>\n",
       "      <td>3.746261e+09</td>\n",
       "    </tr>\n",
       "    <tr>\n",
       "      <th>std</th>\n",
       "      <td>1.489137e-05</td>\n",
       "      <td>1.634728e-05</td>\n",
       "      <td>1.350874e-05</td>\n",
       "      <td>1.495445e-05</td>\n",
       "      <td>3.332535e+09</td>\n",
       "      <td>7.827358e+09</td>\n",
       "    </tr>\n",
       "    <tr>\n",
       "      <th>min</th>\n",
       "      <td>0.000000e+00</td>\n",
       "      <td>0.000000e+00</td>\n",
       "      <td>0.000000e+00</td>\n",
       "      <td>0.000000e+00</td>\n",
       "      <td>0.000000e+00</td>\n",
       "      <td>0.000000e+00</td>\n",
       "    </tr>\n",
       "    <tr>\n",
       "      <th>25%</th>\n",
       "      <td>0.000000e+00</td>\n",
       "      <td>0.000000e+00</td>\n",
       "      <td>0.000000e+00</td>\n",
       "      <td>0.000000e+00</td>\n",
       "      <td>6.200000e+02</td>\n",
       "      <td>0.000000e+00</td>\n",
       "    </tr>\n",
       "    <tr>\n",
       "      <th>50%</th>\n",
       "      <td>6.000000e-08</td>\n",
       "      <td>7.000000e-08</td>\n",
       "      <td>5.500000e-08</td>\n",
       "      <td>6.000000e-08</td>\n",
       "      <td>3.667414e+06</td>\n",
       "      <td>0.000000e+00</td>\n",
       "    </tr>\n",
       "    <tr>\n",
       "      <th>75%</th>\n",
       "      <td>7.849250e-06</td>\n",
       "      <td>8.235000e-06</td>\n",
       "      <td>7.320000e-06</td>\n",
       "      <td>7.846750e-06</td>\n",
       "      <td>5.012032e+08</td>\n",
       "      <td>3.098050e+09</td>\n",
       "    </tr>\n",
       "    <tr>\n",
       "      <th>max</th>\n",
       "      <td>7.924000e-05</td>\n",
       "      <td>8.845000e-05</td>\n",
       "      <td>6.673000e-05</td>\n",
       "      <td>8.000000e-05</td>\n",
       "      <td>3.905385e+10</td>\n",
       "      <td>4.108324e+10</td>\n",
       "    </tr>\n",
       "  </tbody>\n",
       "</table>\n",
       "</div>"
      ],
      "text/plain": [
       "               Open          High           Low         Close        Volume  \\\n",
       "count  4.900000e+02  4.900000e+02  4.900000e+02  4.900000e+02  4.900000e+02   \n",
       "mean   7.974122e-06  8.775205e-06  7.298359e-06  8.050025e-06  1.094187e+09   \n",
       "std    1.489137e-05  1.634728e-05  1.350874e-05  1.495445e-05  3.332535e+09   \n",
       "min    0.000000e+00  0.000000e+00  0.000000e+00  0.000000e+00  0.000000e+00   \n",
       "25%    0.000000e+00  0.000000e+00  0.000000e+00  0.000000e+00  6.200000e+02   \n",
       "50%    6.000000e-08  7.000000e-08  5.500000e-08  6.000000e-08  3.667414e+06   \n",
       "75%    7.849250e-06  8.235000e-06  7.320000e-06  7.846750e-06  5.012032e+08   \n",
       "max    7.924000e-05  8.845000e-05  6.673000e-05  8.000000e-05  3.905385e+10   \n",
       "\n",
       "         Market Cap  \n",
       "count  4.900000e+02  \n",
       "mean   3.746261e+09  \n",
       "std    7.827358e+09  \n",
       "min    0.000000e+00  \n",
       "25%    0.000000e+00  \n",
       "50%    0.000000e+00  \n",
       "75%    3.098050e+09  \n",
       "max    4.108324e+10  "
      ]
     },
     "execution_count": 4,
     "metadata": {},
     "output_type": "execute_result"
    }
   ],
   "source": [
    "df.describe()"
   ]
  },
  {
   "cell_type": "code",
   "execution_count": 5,
   "metadata": {
    "ExecuteTime": {
     "end_time": "2021-12-09T23:09:41.319316Z",
     "start_time": "2021-12-09T23:09:41.312734Z"
    }
   },
   "outputs": [
    {
     "name": "stdout",
     "output_type": "stream",
     "text": [
      "<class 'pandas.core.frame.DataFrame'>\n",
      "RangeIndex: 490 entries, 0 to 489\n",
      "Data columns (total 7 columns):\n",
      " #   Column      Non-Null Count  Dtype  \n",
      "---  ------      --------------  -----  \n",
      " 0   Date        490 non-null    object \n",
      " 1   Open        490 non-null    float64\n",
      " 2   High        490 non-null    float64\n",
      " 3   Low         490 non-null    float64\n",
      " 4   Close       490 non-null    float64\n",
      " 5   Volume      490 non-null    int64  \n",
      " 6   Market Cap  490 non-null    int64  \n",
      "dtypes: float64(4), int64(2), object(1)\n",
      "memory usage: 26.9+ KB\n"
     ]
    }
   ],
   "source": [
    "df.info()"
   ]
  },
  {
   "cell_type": "code",
   "execution_count": 6,
   "metadata": {
    "ExecuteTime": {
     "end_time": "2021-12-09T23:09:41.324323Z",
     "start_time": "2021-12-09T23:09:41.320905Z"
    }
   },
   "outputs": [
    {
     "data": {
      "text/plain": [
       "(490, 7)"
      ]
     },
     "execution_count": 6,
     "metadata": {},
     "output_type": "execute_result"
    }
   ],
   "source": [
    "df.shape"
   ]
  },
  {
   "cell_type": "code",
   "execution_count": 7,
   "metadata": {
    "ExecuteTime": {
     "end_time": "2021-12-09T23:09:41.474065Z",
     "start_time": "2021-12-09T23:09:41.327345Z"
    }
   },
   "outputs": [
    {
     "data": {
      "image/png": "[encoded data removed]",
      "text/plain": [
       "<Figure size 1152x576 with 1 Axes>"
      ]
     },
     "metadata": {
      "needs_background": "light"
     },
     "output_type": "display_data"
    }
   ],
   "source": [
    "# Visualize  the closing price history\n",
    "\n",
    "plt.figure(figsize=(16,8))\n",
    "plt.title(\"Close Price History\")\n",
    "plt.plot(df['Close'])\n",
    "plt.xlabel('Date', fontsize=18)\n",
    "plt.ylabel('CLose Price USD ($)', fontsize=18)\n",
    "plt.show()"
   ]
  },
  {
   "cell_type": "code",
   "execution_count": 8,
   "metadata": {
    "ExecuteTime": {
     "end_time": "2021-12-09T23:09:41.481979Z",
     "start_time": "2021-12-09T23:09:41.477440Z"
    }
   },
   "outputs": [
    {
     "data": {
      "text/plain": [
       "392"
      ]
     },
     "execution_count": 8,
     "metadata": {},
     "output_type": "execute_result"
    }
   ],
   "source": [
    "# Create a new df with only the \"Close\" column\n",
    "\n",
    "data = df.filter(['Close'])\n",
    "\n",
    "# Convert the df to a np array\n",
    "\n",
    "dataset = data.values\n",
    "\n",
    "# Get the number of rows to train the model on\n",
    "\n",
    "training_data_len = math.ceil( len(dataset) * .8 )\n",
    "\n",
    "training_data_len"
   ]
  },
  {
   "cell_type": "code",
   "execution_count": 9,
   "metadata": {
    "ExecuteTime": {
     "end_time": "2021-12-09T23:09:41.493045Z",
     "start_time": "2021-12-09T23:09:41.483497Z"
    }
   },
   "outputs": [
    {
     "data": {
      "text/plain": [
       "array([[1.257500e-05],\n",
       "       [6.375000e-06],\n",
       "       [1.812500e-06],\n",
       "       [2.025000e-06],\n",
       "       [3.862500e-06],\n",
       "       [2.912500e-06],\n",
       "       [2.875000e-06],\n",
       "       [3.262500e-06],\n",
       "       [2.962500e-06],\n",
       "       [2.362500e-06],\n",
       "       [2.162500e-06],\n",
       "       [1.875000e-06],\n",
       "       [1.962500e-06],\n",
       "       [2.287500e-06],\n",
       "       [2.112500e-06],\n",
       "       [2.137500e-06],\n",
       "       [2.037500e-06],\n",
       "       [1.987500e-06],\n",
       "       [2.200000e-06],\n",
       "       [2.500000e-06],\n",
       "       [1.462500e-06],\n",
       "       [1.462500e-06],\n",
       "       [1.412500e-06],\n",
       "       [1.462500e-06],\n",
       "       [1.350000e-06],\n",
       "       [1.262500e-06],\n",
       "       [0.000000e+00],\n",
       "       [1.525000e-06],\n",
       "       [1.712500e-06],\n",
       "       [3.100000e-06],\n",
       "       [3.862500e-06],\n",
       "       [3.512500e-06],\n",
       "       [5.875000e-06],\n",
       "       [6.737500e-06],\n",
       "       [4.687500e-06],\n",
       "       [1.950000e-06],\n",
       "       [1.787500e-06],\n",
       "       [1.550000e-06],\n",
       "       [1.662500e-06],\n",
       "       [1.300000e-06],\n",
       "       [1.450000e-06],\n",
       "       [1.450000e-06],\n",
       "       [1.387500e-06],\n",
       "       [1.375000e-06],\n",
       "       [1.262500e-06],\n",
       "       [1.275000e-06],\n",
       "       [1.262500e-06],\n",
       "       [1.525000e-06],\n",
       "       [1.487500e-06],\n",
       "       [2.100000e-06],\n",
       "       [1.662500e-06],\n",
       "       [1.537500e-06],\n",
       "       [1.475000e-06],\n",
       "       [0.000000e+00],\n",
       "       [0.000000e+00],\n",
       "       [0.000000e+00],\n",
       "       [0.000000e+00],\n",
       "       [0.000000e+00],\n",
       "       [0.000000e+00],\n",
       "       [0.000000e+00],\n",
       "       [0.000000e+00],\n",
       "       [0.000000e+00],\n",
       "       [0.000000e+00],\n",
       "       [0.000000e+00],\n",
       "       [0.000000e+00],\n",
       "       [0.000000e+00],\n",
       "       [0.000000e+00],\n",
       "       [0.000000e+00],\n",
       "       [0.000000e+00],\n",
       "       [0.000000e+00],\n",
       "       [0.000000e+00],\n",
       "       [0.000000e+00],\n",
       "       [0.000000e+00],\n",
       "       [0.000000e+00],\n",
       "       [0.000000e+00],\n",
       "       [0.000000e+00],\n",
       "       [0.000000e+00],\n",
       "       [0.000000e+00],\n",
       "       [0.000000e+00],\n",
       "       [0.000000e+00],\n",
       "       [0.000000e+00],\n",
       "       [0.000000e+00],\n",
       "       [0.000000e+00],\n",
       "       [0.000000e+00],\n",
       "       [0.000000e+00],\n",
       "       [0.000000e+00],\n",
       "       [0.000000e+00],\n",
       "       [0.000000e+00],\n",
       "       [0.000000e+00],\n",
       "       [0.000000e+00],\n",
       "       [0.000000e+00],\n",
       "       [0.000000e+00],\n",
       "       [0.000000e+00],\n",
       "       [0.000000e+00],\n",
       "       [0.000000e+00],\n",
       "       [0.000000e+00],\n",
       "       [0.000000e+00],\n",
       "       [0.000000e+00],\n",
       "       [0.000000e+00],\n",
       "       [0.000000e+00],\n",
       "       [0.000000e+00],\n",
       "       [0.000000e+00],\n",
       "       [0.000000e+00],\n",
       "       [0.000000e+00],\n",
       "       [0.000000e+00],\n",
       "       [0.000000e+00],\n",
       "       [0.000000e+00],\n",
       "       [0.000000e+00],\n",
       "       [0.000000e+00],\n",
       "       [0.000000e+00],\n",
       "       [0.000000e+00],\n",
       "       [0.000000e+00],\n",
       "       [0.000000e+00],\n",
       "       [0.000000e+00],\n",
       "       [0.000000e+00],\n",
       "       [0.000000e+00],\n",
       "       [0.000000e+00],\n",
       "       [0.000000e+00],\n",
       "       [0.000000e+00],\n",
       "       [0.000000e+00],\n",
       "       [0.000000e+00],\n",
       "       [0.000000e+00],\n",
       "       [0.000000e+00],\n",
       "       [0.000000e+00],\n",
       "       [0.000000e+00],\n",
       "       [0.000000e+00],\n",
       "       [0.000000e+00],\n",
       "       [0.000000e+00],\n",
       "       [0.000000e+00],\n",
       "       [0.000000e+00],\n",
       "       [0.000000e+00],\n",
       "       [0.000000e+00],\n",
       "       [0.000000e+00],\n",
       "       [0.000000e+00],\n",
       "       [0.000000e+00],\n",
       "       [0.000000e+00],\n",
       "       [0.000000e+00],\n",
       "       [0.000000e+00],\n",
       "       [0.000000e+00],\n",
       "       [0.000000e+00],\n",
       "       [0.000000e+00],\n",
       "       [0.000000e+00],\n",
       "       [0.000000e+00],\n",
       "       [0.000000e+00],\n",
       "       [0.000000e+00],\n",
       "       [0.000000e+00],\n",
       "       [0.000000e+00],\n",
       "       [0.000000e+00],\n",
       "       [0.000000e+00],\n",
       "       [0.000000e+00],\n",
       "       [0.000000e+00],\n",
       "       [0.000000e+00],\n",
       "       [0.000000e+00],\n",
       "       [0.000000e+00],\n",
       "       [0.000000e+00],\n",
       "       [0.000000e+00],\n",
       "       [0.000000e+00],\n",
       "       [0.000000e+00],\n",
       "       [0.000000e+00],\n",
       "       [0.000000e+00],\n",
       "       [0.000000e+00],\n",
       "       [0.000000e+00],\n",
       "       [0.000000e+00],\n",
       "       [0.000000e+00],\n",
       "       [0.000000e+00],\n",
       "       [0.000000e+00],\n",
       "       [0.000000e+00],\n",
       "       [0.000000e+00],\n",
       "       [0.000000e+00],\n",
       "       [0.000000e+00],\n",
       "       [0.000000e+00],\n",
       "       [0.000000e+00],\n",
       "       [0.000000e+00],\n",
       "       [0.000000e+00],\n",
       "       [0.000000e+00],\n",
       "       [0.000000e+00],\n",
       "       [0.000000e+00],\n",
       "       [0.000000e+00],\n",
       "       [0.000000e+00],\n",
       "       [0.000000e+00],\n",
       "       [0.000000e+00],\n",
       "       [0.000000e+00],\n",
       "       [1.250000e-04],\n",
       "       [3.750000e-04],\n",
       "       [1.250000e-04],\n",
       "       [2.500000e-04],\n",
       "       [1.250000e-04],\n",
       "       [1.250000e-04],\n",
       "       [1.250000e-04],\n",
       "       [1.250000e-04],\n",
       "       [1.250000e-04],\n",
       "       [1.250000e-04],\n",
       "       [1.250000e-04],\n",
       "       [1.250000e-04],\n",
       "       [1.250000e-04],\n",
       "       [1.250000e-04],\n",
       "       [1.250000e-04],\n",
       "       [1.250000e-04],\n",
       "       [1.250000e-04],\n",
       "       [1.250000e-04],\n",
       "       [1.250000e-04],\n",
       "       [1.250000e-04],\n",
       "       [1.250000e-04],\n",
       "       [1.250000e-04],\n",
       "       [1.250000e-04],\n",
       "       [1.250000e-04],\n",
       "       [1.250000e-04],\n",
       "       [1.250000e-04],\n",
       "       [1.250000e-04],\n",
       "       [1.250000e-04],\n",
       "       [1.250000e-04],\n",
       "       [1.250000e-04],\n",
       "       [1.250000e-04],\n",
       "       [2.500000e-04],\n",
       "       [2.500000e-04],\n",
       "       [3.750000e-04],\n",
       "       [2.500000e-04],\n",
       "       [2.500000e-04],\n",
       "       [2.500000e-04],\n",
       "       [2.500000e-04],\n",
       "       [2.500000e-04],\n",
       "       [2.500000e-04],\n",
       "       [2.500000e-04],\n",
       "       [2.500000e-04],\n",
       "       [2.500000e-04],\n",
       "       [6.250000e-04],\n",
       "       [1.125000e-03],\n",
       "       [7.500000e-04],\n",
       "       [8.750000e-04],\n",
       "       [8.750000e-04],\n",
       "       [7.500000e-04],\n",
       "       [7.500000e-04],\n",
       "       [7.500000e-04],\n",
       "       [6.250000e-04],\n",
       "       [5.000000e-04],\n",
       "       [6.250000e-04],\n",
       "       [5.000000e-04],\n",
       "       [5.000000e-04],\n",
       "       [5.000000e-04],\n",
       "       [7.500000e-04],\n",
       "       [7.500000e-04],\n",
       "       [7.500000e-04],\n",
       "       [7.500000e-04],\n",
       "       [6.250000e-04],\n",
       "       [6.250000e-04],\n",
       "       [6.250000e-04],\n",
       "       [5.000000e-04],\n",
       "       [6.250000e-04],\n",
       "       [7.500000e-04],\n",
       "       [7.500000e-04],\n",
       "       [7.500000e-04],\n",
       "       [8.750000e-04],\n",
       "       [1.000000e-03],\n",
       "       [1.375000e-03],\n",
       "       [2.125000e-03],\n",
       "       [2.000000e-03],\n",
       "       [2.125000e-03],\n",
       "       [3.250000e-03],\n",
       "       [8.500000e-03],\n",
       "       [2.475000e-02],\n",
       "       [2.350000e-02],\n",
       "       [4.625000e-02],\n",
       "       [3.112500e-02],\n",
       "       [1.612500e-02],\n",
       "       [2.000000e-02],\n",
       "       [1.525000e-02],\n",
       "       [1.700000e-02],\n",
       "       [1.637500e-02],\n",
       "       [1.475000e-02],\n",
       "       [1.225000e-02],\n",
       "       [1.850000e-02],\n",
       "       [1.750000e-02],\n",
       "       [2.537500e-02],\n",
       "       [2.375000e-02],\n",
       "       [2.037500e-02],\n",
       "       [1.987500e-02],\n",
       "       [2.087500e-02],\n",
       "       [2.137500e-02],\n",
       "       [1.912500e-02],\n",
       "       [3.487500e-02],\n",
       "       [1.972500e-01],\n",
       "       [1.952500e-01],\n",
       "       [4.378750e-01],\n",
       "       [3.827500e-01],\n",
       "       [2.218750e-01],\n",
       "       [2.625000e-01],\n",
       "       [2.313750e-01],\n",
       "       [1.946250e-01],\n",
       "       [2.212500e-01],\n",
       "       [2.061250e-01],\n",
       "       [1.953750e-01],\n",
       "       [1.152500e-01],\n",
       "       [1.211250e-01],\n",
       "       [1.022500e-01],\n",
       "       [1.041250e-01],\n",
       "       [1.016250e-01],\n",
       "       [1.327500e-01],\n",
       "       [1.172500e-01],\n",
       "       [1.190000e-01],\n",
       "       [1.097500e-01],\n",
       "       [9.875000e-02],\n",
       "       [9.862500e-02],\n",
       "       [9.812500e-02],\n",
       "       [1.160000e-01],\n",
       "       [1.102500e-01],\n",
       "       [1.180000e-01],\n",
       "       [1.226250e-01],\n",
       "       [1.101250e-01],\n",
       "       [1.055000e-01],\n",
       "       [1.067500e-01],\n",
       "       [9.650000e-02],\n",
       "       [9.037500e-02],\n",
       "       [9.237500e-02],\n",
       "       [8.550000e-02],\n",
       "       [7.762500e-02],\n",
       "       [7.850000e-02],\n",
       "       [8.587500e-02],\n",
       "       [8.737500e-02],\n",
       "       [9.012500e-02],\n",
       "       [1.038750e-01],\n",
       "       [9.950000e-02],\n",
       "       [9.062500e-02],\n",
       "       [9.525000e-02],\n",
       "       [9.750000e-02],\n",
       "       [7.775000e-02],\n",
       "       [7.912500e-02],\n",
       "       [8.537500e-02],\n",
       "       [9.012500e-02],\n",
       "       [8.825000e-02],\n",
       "       [9.350000e-02],\n",
       "       [9.825000e-02],\n",
       "       [1.006250e-01],\n",
       "       [1.105000e-01],\n",
       "       [1.105000e-01],\n",
       "       [1.042500e-01],\n",
       "       [1.046250e-01],\n",
       "       [1.081250e-01],\n",
       "       [1.090000e-01],\n",
       "       [1.041250e-01],\n",
       "       [1.092500e-01],\n",
       "       [1.070000e-01],\n",
       "       [1.002500e-01],\n",
       "       [9.887500e-02],\n",
       "       [9.587500e-02],\n",
       "       [9.825000e-02],\n",
       "       [9.450000e-02],\n",
       "       [8.887500e-02],\n",
       "       [9.025000e-02],\n",
       "       [8.625000e-02],\n",
       "       [8.287500e-02],\n",
       "       [8.500000e-02],\n",
       "       [8.312500e-02],\n",
       "       [7.725000e-02],\n",
       "       [7.350000e-02],\n",
       "       [8.162500e-02],\n",
       "       [8.087500e-02],\n",
       "       [8.100000e-02],\n",
       "       [8.050000e-02],\n",
       "       [7.937500e-02],\n",
       "       [7.900000e-02],\n",
       "       [7.887500e-02],\n",
       "       [7.737500e-02],\n",
       "       [7.850000e-02],\n",
       "       [7.862500e-02],\n",
       "       [7.812500e-02],\n",
       "       [7.900000e-02],\n",
       "       [7.925000e-02],\n",
       "       [7.700000e-02],\n",
       "       [7.800000e-02],\n",
       "       [7.762500e-02],\n",
       "       [7.887500e-02],\n",
       "       [9.750000e-02],\n",
       "       [9.100000e-02],\n",
       "       [9.562500e-02],\n",
       "       [9.462500e-02],\n",
       "       [9.737500e-02],\n",
       "       [9.525000e-02],\n",
       "       [1.016250e-01],\n",
       "       [1.016250e-01],\n",
       "       [1.071250e-01],\n",
       "       [1.131250e-01],\n",
       "       [1.008750e-01],\n",
       "       [1.002500e-01],\n",
       "       [1.041250e-01],\n",
       "       [1.060000e-01],\n",
       "       [1.017500e-01],\n",
       "       [1.028750e-01],\n",
       "       [1.026250e-01],\n",
       "       [9.362500e-02],\n",
       "       [9.375000e-02],\n",
       "       [8.750000e-02],\n",
       "       [9.337500e-02],\n",
       "       [9.037500e-02],\n",
       "       [8.900000e-02],\n",
       "       [8.325000e-02],\n",
       "       [8.575000e-02],\n",
       "       [9.012500e-02],\n",
       "       [8.850000e-02],\n",
       "       [8.837500e-02],\n",
       "       [9.312500e-02],\n",
       "       [9.450000e-02],\n",
       "       [9.037500e-02],\n",
       "       [7.550000e-02],\n",
       "       [8.350000e-02],\n",
       "       [9.112500e-02],\n",
       "       [8.737500e-02],\n",
       "       [8.475000e-02],\n",
       "       [8.625000e-02],\n",
       "       [8.127500e-02],\n",
       "       [8.316250e-02],\n",
       "       [8.452500e-02],\n",
       "       [1.073375e-01],\n",
       "       [1.052000e-01],\n",
       "       [9.796250e-02],\n",
       "       [1.010500e-01],\n",
       "       [8.716250e-02],\n",
       "       [8.613750e-02],\n",
       "       [9.051250e-02],\n",
       "       [9.555000e-02],\n",
       "       [9.218750e-02],\n",
       "       [9.160000e-02],\n",
       "       [8.868750e-02],\n",
       "       [8.718750e-02],\n",
       "       [8.722500e-02],\n",
       "       [8.765000e-02],\n",
       "       [9.010000e-02],\n",
       "       [9.623750e-02],\n",
       "       [9.888750e-02],\n",
       "       [1.067625e-01],\n",
       "       [1.687500e-01],\n",
       "       [2.161250e-01],\n",
       "       [3.496250e-01],\n",
       "       [2.830000e-01],\n",
       "       [3.418750e-01],\n",
       "       [3.338750e-01],\n",
       "       [3.277500e-01],\n",
       "       [3.846250e-01],\n",
       "       [3.631250e-01],\n",
       "       [3.638750e-01],\n",
       "       [3.426250e-01],\n",
       "       [3.145000e-01],\n",
       "       [3.212500e-01],\n",
       "       [3.473750e-01],\n",
       "       [3.587500e-01],\n",
       "       [3.503750e-01],\n",
       "       [3.658750e-01],\n",
       "       [3.436250e-01],\n",
       "       [3.487500e-01],\n",
       "       [4.232500e-01],\n",
       "       [4.477500e-01],\n",
       "       [5.271250e-01],\n",
       "       [5.975000e-01],\n",
       "       [1.000000e+00],\n",
       "       [8.558750e-01],\n",
       "       [9.352500e-01],\n",
       "       [8.132500e-01],\n",
       "       [8.405000e-01],\n",
       "       [8.958750e-01],\n",
       "       [8.615000e-01],\n",
       "       [6.893750e-01],\n",
       "       [6.171250e-01],\n",
       "       [7.806250e-01],\n",
       "       [7.320000e-01],\n",
       "       [7.111250e-01],\n",
       "       [6.908750e-01],\n",
       "       [6.858750e-01],\n",
       "       [6.310000e-01],\n",
       "       [7.080000e-01],\n",
       "       [6.540000e-01],\n",
       "       [6.460000e-01],\n",
       "       [6.652500e-01],\n",
       "       [6.663750e-01],\n",
       "       [6.061250e-01],\n",
       "       [6.013750e-01],\n",
       "       [5.302500e-01],\n",
       "       [6.070000e-01],\n",
       "       [5.953750e-01],\n",
       "       [5.523750e-01],\n",
       "       [5.402500e-01],\n",
       "       [5.232500e-01],\n",
       "       [5.040000e-01],\n",
       "       [4.971250e-01],\n",
       "       [4.811250e-01],\n",
       "       [4.917500e-01],\n",
       "       [4.887500e-01],\n",
       "       [5.688750e-01],\n",
       "       [5.931250e-01],\n",
       "       [5.527500e-01],\n",
       "       [5.268750e-01],\n",
       "       [5.051250e-01]])"
      ]
     },
     "execution_count": 9,
     "metadata": {},
     "output_type": "execute_result"
    }
   ],
   "source": [
    "# scale the data\n",
    "\n",
    "scaler = MinMaxScaler(feature_range=(0,1))\n",
    "\n",
    "scaled_data = scaler.fit_transform(dataset)\n",
    "\n",
    "scaled_data"
   ]
  },
  {
   "cell_type": "code",
   "execution_count": 10,
   "metadata": {
    "ExecuteTime": {
     "end_time": "2021-12-09T23:09:41.498624Z",
     "start_time": "2021-12-09T23:09:41.494623Z"
    }
   },
   "outputs": [
    {
     "name": "stdout",
     "output_type": "stream",
     "text": [
      "[array([1.2575e-05, 6.3750e-06, 1.8125e-06, 2.0250e-06, 3.8625e-06,\n",
      "       2.9125e-06, 2.8750e-06, 3.2625e-06, 2.9625e-06, 2.3625e-06,\n",
      "       2.1625e-06, 1.8750e-06, 1.9625e-06, 2.2875e-06, 2.1125e-06,\n",
      "       2.1375e-06, 2.0375e-06, 1.9875e-06, 2.2000e-06, 2.5000e-06,\n",
      "       1.4625e-06, 1.4625e-06, 1.4125e-06, 1.4625e-06, 1.3500e-06,\n",
      "       1.2625e-06, 0.0000e+00, 1.5250e-06, 1.7125e-06, 3.1000e-06,\n",
      "       3.8625e-06, 3.5125e-06, 5.8750e-06, 6.7375e-06, 4.6875e-06,\n",
      "       1.9500e-06, 1.7875e-06, 1.5500e-06, 1.6625e-06, 1.3000e-06])]\n",
      "[1.4499999999999997e-06]\n",
      "\n"
     ]
    }
   ],
   "source": [
    "# Create the training data set\n",
    "# Create the scaled training data set\n",
    "\n",
    "train_data = scaled_data[0:training_data_len, :]\n",
    "\n",
    "# Split the data into x_train and y_train data sets\n",
    "x_train = []\n",
    "y_train = []\n",
    "\n",
    "for i in range(40, len(train_data)):\n",
    "    x_train.append(train_data[i-40:i, 0])\n",
    "    y_train.append(train_data[i, 0])\n",
    "    if i <= 40:\n",
    "        print(x_train)\n",
    "        print(y_train)\n",
    "        print()"
   ]
  },
  {
   "cell_type": "code",
   "execution_count": 11,
   "metadata": {
    "ExecuteTime": {
     "end_time": "2021-12-09T23:09:41.502761Z",
     "start_time": "2021-12-09T23:09:41.499879Z"
    }
   },
   "outputs": [],
   "source": [
    "\n",
    "# Convert the x_train and y_train to np arrays\n",
    "\n",
    "x_train, y_train = np.array(x_train), np.array(y_train)"
   ]
  },
  {
   "cell_type": "code",
   "execution_count": 12,
   "metadata": {
    "ExecuteTime": {
     "end_time": "2021-12-09T23:09:41.507613Z",
     "start_time": "2021-12-09T23:09:41.504399Z"
    }
   },
   "outputs": [
    {
     "data": {
      "text/plain": [
       "(352, 40, 1)"
      ]
     },
     "execution_count": 12,
     "metadata": {},
     "output_type": "execute_result"
    }
   ],
   "source": [
    "# Reshape the data\n",
    "x_train = np.reshape(x_train, (x_train.shape[0], x_train.shape[1], 1))\n",
    "x_train.shape"
   ]
  },
  {
   "cell_type": "code",
   "execution_count": 13,
   "metadata": {
    "ExecuteTime": {
     "end_time": "2021-12-09T23:09:41.830890Z",
     "start_time": "2021-12-09T23:09:41.509284Z"
    }
   },
   "outputs": [],
   "source": [
    "# build LSTM model\n",
    "\n",
    "model = keras.Sequential()\n",
    "\n",
    "model.add(layers.LSTM(50, return_sequences=True, input_shape=(x_train.shape[1], 1)))\n",
    "model.add(layers.LSTM(50, return_sequences=False))\n",
    "model.add(layers.Dense(25))\n",
    "model.add(layers.Dense(1))"
   ]
  },
  {
   "cell_type": "code",
   "execution_count": 14,
   "metadata": {
    "ExecuteTime": {
     "end_time": "2021-12-09T23:09:41.840440Z",
     "start_time": "2021-12-09T23:09:41.832106Z"
    }
   },
   "outputs": [],
   "source": [
    "# Compile the model\n",
    "\n",
    "model.compile(optimizer='adam', loss='mean_squared_error')"
   ]
  },
  {
   "cell_type": "code",
   "execution_count": 15,
   "metadata": {
    "ExecuteTime": {
     "end_time": "2021-12-09T23:09:46.712168Z",
     "start_time": "2021-12-09T23:09:41.841725Z"
    }
   },
   "outputs": [
    {
     "name": "stdout",
     "output_type": "stream",
     "text": [
      "352/352 [==============================] - 5s 9ms/step - loss: 0.0015\n"
     ]
    },
    {
     "data": {
      "text/plain": [
       "<tensorflow.python.keras.callbacks.History at 0x7f9f0298f610>"
      ]
     },
     "execution_count": 15,
     "metadata": {},
     "output_type": "execute_result"
    }
   ],
   "source": [
    "# Train the model\n",
    "\n",
    "model.fit(x_train, y_train, batch_size=1, epochs=1)"
   ]
  },
  {
   "cell_type": "code",
   "execution_count": 16,
   "metadata": {
    "ExecuteTime": {
     "end_time": "2021-12-09T23:09:46.715932Z",
     "start_time": "2021-12-09T23:09:46.713401Z"
    }
   },
   "outputs": [],
   "source": [
    "# Create testing data set\n",
    "\n",
    "# Create a new array containing scaled values from index 312 to 352\n",
    "test_data = scaled_data[training_data_len - 40: , :]\n",
    "\n",
    "# Create the data sets x_test and y_test\n",
    "\n",
    "x_test = []\n",
    "y_test = dataset[training_data_len: ,  :]\n",
    "\n",
    "for i in range(40, len(test_data)):\n",
    "    x_test.append(test_data[i-40:i, 0])"
   ]
  },
  {
   "cell_type": "code",
   "execution_count": 17,
   "metadata": {
    "ExecuteTime": {
     "end_time": "2021-12-09T23:09:46.719295Z",
     "start_time": "2021-12-09T23:09:46.717301Z"
    }
   },
   "outputs": [],
   "source": [
    "# convert the data into a np array\n",
    "\n",
    "x_test = np.array(x_test)"
   ]
  },
  {
   "cell_type": "code",
   "execution_count": 19,
   "metadata": {
    "ExecuteTime": {
     "end_time": "2021-12-09T23:10:10.085726Z",
     "start_time": "2021-12-09T23:10:10.083134Z"
    }
   },
   "outputs": [],
   "source": [
    "# Reshape the data\n",
    "\n",
    "x_test = np.reshape(x_test, (x_test.shape[0], x_test.shape[1], 1))"
   ]
  },
  {
   "cell_type": "code",
   "execution_count": 24,
   "metadata": {
    "ExecuteTime": {
     "end_time": "2021-12-09T23:11:26.070879Z",
     "start_time": "2021-12-09T23:11:26.016127Z"
    }
   },
   "outputs": [],
   "source": [
    "# Get the models predicted price values\n",
    "\n",
    "predictions = model.predict(x_test)\n",
    "predictions = scaler.inverse_transform(predictions)"
   ]
  },
  {
   "cell_type": "code",
   "execution_count": 25,
   "metadata": {
    "ExecuteTime": {
     "end_time": "2021-12-09T23:12:43.986420Z",
     "start_time": "2021-12-09T23:12:43.982664Z"
    }
   },
   "outputs": [
    {
     "data": {
      "text/plain": [
       "7.635316794725503e-06"
      ]
     },
     "execution_count": 25,
     "metadata": {},
     "output_type": "execute_result"
    }
   ],
   "source": [
    "# Get the root mean squared error (RMSE)\n",
    "\n",
    "rmse = np.sqrt(np.mean(predictions - y_test)**2)\n",
    "rmse"
   ]
  },
  {
   "cell_type": "code",
   "execution_count": 27,
   "metadata": {
    "ExecuteTime": {
     "end_time": "2021-12-09T23:19:09.109440Z",
     "start_time": "2021-12-09T23:19:08.932468Z"
    }
   },
   "outputs": [
    {
     "name": "stderr",
     "output_type": "stream",
     "text": [
      "<ipython-input-27-c74ed63cabc2>:5: SettingWithCopyWarning: \n",
      "A value is trying to be set on a copy of a slice from a DataFrame.\n",
      "Try using .loc[row_indexer,col_indexer] = value instead\n",
      "\n",
      "See the caveats in the documentation: https://pandas.pydata.org/pandas-docs/stable/user_guide/indexing.html#returning-a-view-versus-a-copy\n",
      "  valid['Predicitons'] = predictions\n"
     ]
    },
    {
     "data": {
      "text/plain": [
       "<function matplotlib.pyplot.show(close=None, block=None)>"
      ]
     },
     "execution_count": 27,
     "metadata": {},
     "output_type": "execute_result"
    },
    {
     "data": {
      "image/png": "[encoded data removed]",
      "text/plain": [
       "<Figure size 1152x576 with 1 Axes>"
      ]
     },
     "metadata": {
      "needs_background": "light"
     },
     "output_type": "display_data"
    }
   ],
   "source": [
    "# Plot the data\n",
    "\n",
    "train = data[:training_data_len]\n",
    "valid = data[training_data_len:]\n",
    "valid['Predicitons'] = predictions\n",
    "\n",
    "# Visualize the data\n",
    "\n",
    "plt.figure(figsize=(16,8))\n",
    "plt.title('Model')\n",
    "plt.xlabel('Date', fontsize=18)\n",
    "plt.ylabel('Close Price USD ($)', fontsize=18)\n",
    "plt.plot(train['Close'])\n",
    "plt.plot(valid[['Close', 'Predicitons']])\n",
    "plt.legend(['Train', 'Val', 'Predictions'], loc='lower right')\n",
    "plt.show"
   ]
  },
  {
   "cell_type": "code",
   "execution_count": 28,
   "metadata": {
    "ExecuteTime": {
     "end_time": "2021-12-09T23:20:27.073013Z",
     "start_time": "2021-12-09T23:20:27.064522Z"
    }
   },
   "outputs": [
    {
     "data": {
      "text/html": [
       "<div>\n",
       "<style scoped>\n",
       "    .dataframe tbody tr th:only-of-type {\n",
       "        vertical-align: middle;\n",
       "    }\n",
       "\n",
       "    .dataframe tbody tr th {\n",
       "        vertical-align: top;\n",
       "    }\n",
       "\n",
       "    .dataframe thead th {\n",
       "        text-align: right;\n",
       "    }\n",
       "</style>\n",
       "<table border=\"1\" class=\"dataframe\">\n",
       "  <thead>\n",
       "    <tr style=\"text-align: right;\">\n",
       "      <th></th>\n",
       "      <th>Close</th>\n",
       "      <th>Predicitons</th>\n",
       "    </tr>\n",
       "  </thead>\n",
       "  <tbody>\n",
       "    <tr>\n",
       "      <th>392</th>\n",
       "      <td>0.000007</td>\n",
       "      <td>0.000007</td>\n",
       "    </tr>\n",
       "    <tr>\n",
       "      <th>393</th>\n",
       "      <td>0.000007</td>\n",
       "      <td>0.000007</td>\n",
       "    </tr>\n",
       "    <tr>\n",
       "      <th>394</th>\n",
       "      <td>0.000007</td>\n",
       "      <td>0.000007</td>\n",
       "    </tr>\n",
       "    <tr>\n",
       "      <th>395</th>\n",
       "      <td>0.000007</td>\n",
       "      <td>0.000007</td>\n",
       "    </tr>\n",
       "    <tr>\n",
       "      <th>396</th>\n",
       "      <td>0.000007</td>\n",
       "      <td>0.000006</td>\n",
       "    </tr>\n",
       "    <tr>\n",
       "      <th>...</th>\n",
       "      <td>...</td>\n",
       "      <td>...</td>\n",
       "    </tr>\n",
       "    <tr>\n",
       "      <th>485</th>\n",
       "      <td>0.000046</td>\n",
       "      <td>0.000032</td>\n",
       "    </tr>\n",
       "    <tr>\n",
       "      <th>486</th>\n",
       "      <td>0.000047</td>\n",
       "      <td>0.000033</td>\n",
       "    </tr>\n",
       "    <tr>\n",
       "      <th>487</th>\n",
       "      <td>0.000044</td>\n",
       "      <td>0.000033</td>\n",
       "    </tr>\n",
       "    <tr>\n",
       "      <th>488</th>\n",
       "      <td>0.000042</td>\n",
       "      <td>0.000034</td>\n",
       "    </tr>\n",
       "    <tr>\n",
       "      <th>489</th>\n",
       "      <td>0.000040</td>\n",
       "      <td>0.000034</td>\n",
       "    </tr>\n",
       "  </tbody>\n",
       "</table>\n",
       "<p>98 rows × 2 columns</p>\n",
       "</div>"
      ],
      "text/plain": [
       "        Close  Predicitons\n",
       "392  0.000007     0.000007\n",
       "393  0.000007     0.000007\n",
       "394  0.000007     0.000007\n",
       "395  0.000007     0.000007\n",
       "396  0.000007     0.000006\n",
       "..        ...          ...\n",
       "485  0.000046     0.000032\n",
       "486  0.000047     0.000033\n",
       "487  0.000044     0.000033\n",
       "488  0.000042     0.000034\n",
       "489  0.000040     0.000034\n",
       "\n",
       "[98 rows x 2 columns]"
      ]
     },
     "execution_count": 28,
     "metadata": {},
     "output_type": "execute_result"
    }
   ],
   "source": [
    "valid"
   ]
  },
  {
   "cell_type": "code",
   "execution_count": null,
   "metadata": {},
   "outputs": [],
   "source": []
  },
  {
   "cell_type": "code",
   "execution_count": null,
   "metadata": {},
   "outputs": [],
   "source": []
  }
 ],
 "metadata": {
  "kernelspec": {
   "display_name": "Python 3",
   "language": "python",
   "name": "python3"
  },
  "language_info": {
   "codemirror_mode": {
    "name": "ipython",
    "version": 3
   },
   "file_extension": ".py",
   "mimetype": "text/x-python",
   "name": "python",
   "nbconvert_exporter": "python",
   "pygments_lexer": "ipython3",
   "version": "3.8.5"
  },
  "toc": {
   "base_numbering": 1,
   "nav_menu": {
    "height": "80px",
    "width": "160px"
   },
   "number_sections": true,
   "sideBar": true,
   "skip_h1_title": false,
   "title_cell": "Table of Contents",
   "title_sidebar": "Contents",
   "toc_cell": false,
   "toc_position": {},
   "toc_section_display": true,
   "toc_window_display": false
  },
  "varInspector": {
   "cols": {
    "lenName": 16,
    "lenType": 16,
    "lenVar": 40
   },
   "kernels_config": {
    "python": {
     "delete_cmd_postfix": "",
     "delete_cmd_prefix": "del ",
     "library": "var_list.py",
     "varRefreshCmd": "print(var_dic_list())"
    },
    "r": {
     "delete_cmd_postfix": ") ",
     "delete_cmd_prefix": "rm(",
     "library": "var_list.r",
     "varRefreshCmd": "cat(var_dic_list()) "
    }
   },
   "types_to_exclude": [
    "module",
    "function",
    "builtin_function_or_method",
    "instance",
    "_Feature"
   ],
   "window_display": false
  }
 },
 "nbformat": 4,
 "nbformat_minor": 4
}
